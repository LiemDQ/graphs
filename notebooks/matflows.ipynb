{
 "cells": [
  {
   "cell_type": "code",
   "execution_count": 1,
   "metadata": {},
   "outputs": [],
   "source": [
    "import matplotlib.pyplot as plt\n",
    "from pint import UnitRegistry"
   ]
  },
  {
   "cell_type": "code",
   "execution_count": 2,
   "metadata": {},
   "outputs": [],
   "source": [
    "# set up units\n",
    "ureg = UnitRegistry()\n",
    "ureg.define(\"terawatt = 1e12 * watt = TW\")"
   ]
  },
  {
   "cell_type": "code",
   "execution_count": 3,
   "metadata": {},
   "outputs": [],
   "source": [
    "# set up constants\n",
    "Earth_surface_area = (510e6 * ureg.kilometers**2).to(ureg.meter**2)\n",
    "Solar_irradiation = 173e3 * 1e12 * ureg.W\n"
   ]
  },
  {
   "cell_type": "markdown",
   "metadata": {},
   "source": [
    "# Energy balances"
   ]
  },
  {
   "cell_type": "code",
   "execution_count": 12,
   "metadata": {},
   "outputs": [],
   "source": [
    "Solar_irradiation/Earth_surface_area\n",
    "energy_imbalance = 0.96 * ureg.W/ureg.m**2 * Earth_surface_area\n",
    "photosynthesis = 140 * ureg.TW\n",
    "human_production = 18*ureg.TW\n",
    "geothermal = 47*ureg.TW"
   ]
  },
  {
   "cell_type": "code",
   "execution_count": 13,
   "metadata": {},
   "outputs": [],
   "source": [
    "incoming = Solar_irradiation + geothermal\n",
    "accumulation = energy_imbalance \n",
    "outgoing = incoming - accumulation"
   ]
  },
  {
   "cell_type": "code",
   "execution_count": 14,
   "metadata": {},
   "outputs": [
    {
     "name": "stdout",
     "output_type": "stream",
     "text": [
      "99.717%\n"
     ]
    }
   ],
   "source": [
    "print(f\"{(100*outgoing/incoming).magnitude:.3f}%\")"
   ]
  },
  {
   "cell_type": "markdown",
   "metadata": {},
   "source": [
    "# Flow calculations"
   ]
  },
  {
   "cell_type": "code",
   "execution_count": 25,
   "metadata": {},
   "outputs": [
    {
     "name": "stdout",
     "output_type": "stream",
     "text": [
      "84,000,000,000,000.00\n",
      "77.35\n",
      "28233.56\n"
     ]
    }
   ],
   "source": [
    "import math\n",
    "\n",
    "def sphere_mass(density, diameter):\n",
    "    return math.pi * 4/3 * (diameter/2)**3 * density\n",
    "\n",
    "gold_price = 84.00/ureg.g\n",
    "gold_density = 19.3*ureg.g/ureg.cm**3\n",
    "\n",
    "gold_diameter = 4.5*ureg.mm\n",
    "\n",
    "#value of bb pellet of gold\n",
    "sphere_value = gold_price*sphere_mass(gold_density, gold_diameter).to_reduced_units()\n",
    "\n",
    "#if you wished for 1,000,000 tons of gold, how much would it be worth?\n",
    "wish_gold_mass = 1000000*ureg.metric_ton\n",
    "wish_value = (wish_gold_mass * gold_price).to_reduced_units()\n",
    "\n",
    "print(f\"{wish_value.magnitude:,.2f}\")\n",
    "print(f\"{sphere_value.magnitude:.2f}\")\n",
    "print(f\"{sphere_value.magnitude*365:.2f}\")"
   ]
  },
  {
   "cell_type": "code",
   "execution_count": null,
   "metadata": {},
   "outputs": [],
   "source": []
  }
 ],
 "metadata": {
  "kernelspec": {
   "display_name": "default",
   "language": "python",
   "name": "python3"
  },
  "language_info": {
   "codemirror_mode": {
    "name": "ipython",
    "version": 3
   },
   "file_extension": ".py",
   "mimetype": "text/x-python",
   "name": "python",
   "nbconvert_exporter": "python",
   "pygments_lexer": "ipython3",
   "version": "3.13.1"
  }
 },
 "nbformat": 4,
 "nbformat_minor": 2
}
